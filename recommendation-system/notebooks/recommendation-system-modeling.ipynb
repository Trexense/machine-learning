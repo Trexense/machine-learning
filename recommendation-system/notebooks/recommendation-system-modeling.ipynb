{
 "cells": [
  {
   "cell_type": "code",
   "execution_count": 1,
   "metadata": {
    "executionInfo": {
     "elapsed": 9043,
     "status": "ok",
     "timestamp": 1733235080095,
     "user": {
      "displayName": "Rayhan Adi Wicaksono M008B4KY3708",
      "userId": "09134371268668555622"
     },
     "user_tz": -420
    },
    "id": "hXTL-XXWfVoi"
   },
   "outputs": [
    {
     "name": "stderr",
     "output_type": "stream",
     "text": [
      "c:\\Users\\ACER\\anaconda3\\lib\\site-packages\\pandas\\core\\computation\\expressions.py:21: UserWarning: Pandas requires version '2.8.4' or newer of 'numexpr' (version '2.8.1' currently installed).\n",
      "  from pandas.core.computation.check import NUMEXPR_INSTALLED\n",
      "c:\\Users\\ACER\\anaconda3\\lib\\site-packages\\pandas\\core\\arrays\\masked.py:60: UserWarning: Pandas requires version '1.3.6' or newer of 'bottleneck' (version '1.3.4' currently installed).\n",
      "  from pandas.core import (\n"
     ]
    }
   ],
   "source": [
    "import numpy as np\n",
    "import numpy.ma as ma\n",
    "import pandas as pd\n",
    "import tensorflow as tf\n",
    "from tensorflow import keras\n",
    "from sklearn.preprocessing import StandardScaler, MinMaxScaler\n",
    "from sklearn.model_selection import train_test_split\n",
    "import tabulate"
   ]
  },
  {
   "cell_type": "markdown",
   "metadata": {
    "id": "Zl85XKM7RasZ"
   },
   "source": [
    "## Prepare The Data"
   ]
  },
  {
   "cell_type": "code",
   "execution_count": 2,
   "metadata": {
    "executionInfo": {
     "elapsed": 27,
     "status": "ok",
     "timestamp": 1733235080096,
     "user": {
      "displayName": "Rayhan Adi Wicaksono M008B4KY3708",
      "userId": "09134371268668555622"
     },
     "user_tz": -420
    },
    "id": "FrRscnryfn9G"
   },
   "outputs": [],
   "source": [
    "# df_hotel = pd.read_csv(\"/content/drive/MyDrive/Capstone/ml-workspace/dataset/dataset-2/listhotel.csv\")\n",
    "# # df_user = pd.read_csv(\"/content/drive/MyDrive/Capstone/ml-workspace/dataset/dataset-2/user-history.csv\")\n",
    "# df_user = pd.read_csv(\"/content/drive/MyDrive/Capstone/ml-workspace/dataset/dataset-2/user-history-dummy.csv\")\n",
    "\n",
    "df_hotel = pd.read_csv(\"../data/listhotel.csv\")\n",
    "df_user = pd.read_csv(\"../data/user_history_dummy_3000_1500.csv\")\n",
    "# df_user = pd.read_csv(\"user_history_dummy_5000.csv\")\n",
    "# df_user = pd.read_csv(\"user_history_dummy_5000_2.csv\")\n",
    "# df_user = pd.read_csv(\"user-history-dummy.csv\")"
   ]
  },
  {
   "cell_type": "code",
   "execution_count": 3,
   "metadata": {
    "colab": {
     "base_uri": "https://localhost:8080/"
    },
    "executionInfo": {
     "elapsed": 28,
     "status": "ok",
     "timestamp": 1733235080097,
     "user": {
      "displayName": "Rayhan Adi Wicaksono M008B4KY3708",
      "userId": "09134371268668555622"
     },
     "user_tz": -420
    },
    "id": "2xvYxQvk84Nh",
    "outputId": "4d0e2637-a241-4acf-8d0d-c2dfe1b51657"
   },
   "outputs": [
    {
     "name": "stdout",
     "output_type": "stream",
     "text": [
      "<class 'pandas.core.frame.DataFrame'>\n",
      "RangeIndex: 23 entries, 0 to 22\n",
      "Data columns (total 22 columns):\n",
      " #   Column        Non-Null Count  Dtype \n",
      "---  ------        --------------  ----- \n",
      " 0   hotel_id      23 non-null     object\n",
      " 1   hotel_name    23 non-null     object\n",
      " 2   cheap         23 non-null     int64 \n",
      " 3   luxurious     23 non-null     int64 \n",
      " 4   clean         23 non-null     int64 \n",
      " 5   cozy          23 non-null     int64 \n",
      " 6   good service  23 non-null     int64 \n",
      " 7   nice view     23 non-null     int64 \n",
      " 8   parking       23 non-null     int64 \n",
      " 9   pool          23 non-null     int64 \n",
      " 10  spa           23 non-null     int64 \n",
      " 11  gym           23 non-null     int64 \n",
      " 12  wifi          23 non-null     int64 \n",
      " 13  strategic     23 non-null     int64 \n",
      " 14  delicious     23 non-null     int64 \n",
      " 15  breakfast     23 non-null     int64 \n",
      " 16  safety        23 non-null     int64 \n",
      " 17  family        23 non-null     int64 \n",
      " 18  pet           23 non-null     int64 \n",
      " 19  aesthetic     23 non-null     int64 \n",
      " 20  disability    23 non-null     int64 \n",
      " 21  laundry       23 non-null     int64 \n",
      "dtypes: int64(20), object(2)\n",
      "memory usage: 4.1+ KB\n"
     ]
    }
   ],
   "source": [
    "df_hotel.info()"
   ]
  },
  {
   "cell_type": "code",
   "execution_count": 4,
   "metadata": {
    "colab": {
     "base_uri": "https://localhost:8080/"
    },
    "executionInfo": {
     "elapsed": 16,
     "status": "ok",
     "timestamp": 1733235080097,
     "user": {
      "displayName": "Rayhan Adi Wicaksono M008B4KY3708",
      "userId": "09134371268668555622"
     },
     "user_tz": -420
    },
    "id": "nc-30n699AWz",
    "outputId": "5734bfc1-d5d6-4433-91fe-5f2187197b37"
   },
   "outputs": [
    {
     "name": "stdout",
     "output_type": "stream",
     "text": [
      "<class 'pandas.core.frame.DataFrame'>\n",
      "RangeIndex: 3000 entries, 0 to 2999\n",
      "Data columns (total 5 columns):\n",
      " #   Column       Non-Null Count  Dtype \n",
      "---  ------       --------------  ----- \n",
      " 0   activity_id  3000 non-null   object\n",
      " 1   user_id      3000 non-null   object\n",
      " 2   hotel_id     3000 non-null   object\n",
      " 3   is_bookmark  3000 non-null   int64 \n",
      " 4   is_watching  3000 non-null   int64 \n",
      "dtypes: int64(2), object(3)\n",
      "memory usage: 117.3+ KB\n"
     ]
    }
   ],
   "source": [
    "df_user.info()"
   ]
  },
  {
   "cell_type": "code",
   "execution_count": 5,
   "metadata": {
    "colab": {
     "base_uri": "https://localhost:8080/"
    },
    "executionInfo": {
     "elapsed": 13,
     "status": "ok",
     "timestamp": 1733235080097,
     "user": {
      "displayName": "Rayhan Adi Wicaksono M008B4KY3708",
      "userId": "09134371268668555622"
     },
     "user_tz": -420
    },
    "id": "QmwK2B91DJ4c",
    "outputId": "b57e844b-c5cb-4c50-806a-6cf680514c34"
   },
   "outputs": [
    {
     "data": {
      "text/plain": [
       "Index(['hotel_id', 'hotel_name', 'cheap', 'luxurious', 'clean', 'cozy',\n",
       "       'good service', 'nice view', 'parking', 'pool', 'spa', 'gym', 'wifi',\n",
       "       'strategic', 'delicious', 'breakfast', 'safety', 'family', 'pet',\n",
       "       'aesthetic', 'disability', 'laundry'],\n",
       "      dtype='object')"
      ]
     },
     "execution_count": 5,
     "metadata": {},
     "output_type": "execute_result"
    }
   ],
   "source": [
    "df_hotel.columns"
   ]
  },
  {
   "cell_type": "code",
   "execution_count": 6,
   "metadata": {
    "executionInfo": {
     "elapsed": 11,
     "status": "ok",
     "timestamp": 1733235080097,
     "user": {
      "displayName": "Rayhan Adi Wicaksono M008B4KY3708",
      "userId": "09134371268668555622"
     },
     "user_tz": -420
    },
    "id": "6uWw9awpszwN"
   },
   "outputs": [],
   "source": [
    "def generate_training_data(df_user, df_hotel):\n",
    "\n",
    "  df_training = pd.merge(df_user, df_hotel.drop(['hotel_name'],axis = 1), on='hotel_id', how='inner')\n",
    "\n",
    "  # df_training['score'] = df_training['is_booking'] * 4 + df_training['is_watching']\n",
    "\n",
    "  df_training['score'] = df_training['is_bookmark']\n",
    "\n",
    "  df_training = df_training[['user_id','hotel_id','score']]\n",
    "\n",
    "  return df_training"
   ]
  },
  {
   "cell_type": "code",
   "execution_count": 7,
   "metadata": {
    "colab": {
     "base_uri": "https://localhost:8080/",
     "height": 206
    },
    "executionInfo": {
     "elapsed": 10,
     "status": "ok",
     "timestamp": 1733235080097,
     "user": {
      "displayName": "Rayhan Adi Wicaksono M008B4KY3708",
      "userId": "09134371268668555622"
     },
     "user_tz": -420
    },
    "id": "VJvogX8as0N8",
    "outputId": "0d734965-f742-4ae7-c27f-28265fea2a15"
   },
   "outputs": [
    {
     "data": {
      "text/html": [
       "<div>\n",
       "<style scoped>\n",
       "    .dataframe tbody tr th:only-of-type {\n",
       "        vertical-align: middle;\n",
       "    }\n",
       "\n",
       "    .dataframe tbody tr th {\n",
       "        vertical-align: top;\n",
       "    }\n",
       "\n",
       "    .dataframe thead th {\n",
       "        text-align: right;\n",
       "    }\n",
       "</style>\n",
       "<table border=\"1\" class=\"dataframe\">\n",
       "  <thead>\n",
       "    <tr style=\"text-align: right;\">\n",
       "      <th></th>\n",
       "      <th>user_id</th>\n",
       "      <th>hotel_id</th>\n",
       "      <th>score</th>\n",
       "    </tr>\n",
       "  </thead>\n",
       "  <tbody>\n",
       "    <tr>\n",
       "      <th>0</th>\n",
       "      <td>u1197</td>\n",
       "      <td>h1013</td>\n",
       "      <td>1</td>\n",
       "    </tr>\n",
       "    <tr>\n",
       "      <th>1</th>\n",
       "      <td>u1386</td>\n",
       "      <td>h1019</td>\n",
       "      <td>0</td>\n",
       "    </tr>\n",
       "    <tr>\n",
       "      <th>2</th>\n",
       "      <td>u0941</td>\n",
       "      <td>h1002</td>\n",
       "      <td>1</td>\n",
       "    </tr>\n",
       "    <tr>\n",
       "      <th>3</th>\n",
       "      <td>u0089</td>\n",
       "      <td>h1016</td>\n",
       "      <td>0</td>\n",
       "    </tr>\n",
       "    <tr>\n",
       "      <th>4</th>\n",
       "      <td>u0389</td>\n",
       "      <td>h1021</td>\n",
       "      <td>1</td>\n",
       "    </tr>\n",
       "  </tbody>\n",
       "</table>\n",
       "</div>"
      ],
      "text/plain": [
       "  user_id hotel_id  score\n",
       "0   u1197    h1013      1\n",
       "1   u1386    h1019      0\n",
       "2   u0941    h1002      1\n",
       "3   u0089    h1016      0\n",
       "4   u0389    h1021      1"
      ]
     },
     "execution_count": 7,
     "metadata": {},
     "output_type": "execute_result"
    }
   ],
   "source": [
    "df_training = generate_training_data(df_user, df_hotel)\n",
    "df_training.head()"
   ]
  },
  {
   "cell_type": "code",
   "execution_count": 8,
   "metadata": {
    "executionInfo": {
     "elapsed": 485,
     "status": "ok",
     "timestamp": 1733235080573,
     "user": {
      "displayName": "Rayhan Adi Wicaksono M008B4KY3708",
      "userId": "09134371268668555622"
     },
     "user_tz": -420
    },
    "id": "AjkhCJDv9C4I"
   },
   "outputs": [],
   "source": [
    "labels = ['cheap', 'luxurious', 'clean', 'cozy',\n",
    "       'good service', 'nice view', 'parking', 'pool', 'spa', 'gym', 'wifi',\n",
    "       'strategic', 'delicious', 'breakfast', 'safety', 'family', 'pet',\n",
    "       'aesthetic', 'disability', 'laundry']\n",
    "\n",
    "def generate_user_score(df_user, df_hotel, user_id, labels):\n",
    "  df_user_history = df_user[df_user['user_id'] == user_id]\n",
    "\n",
    "  df_user_history = pd.merge(df_user_history, df_hotel.drop(['hotel_name'],axis = 1), on='hotel_id', how='inner')\n",
    "\n",
    "  # for label in labels:\n",
    "  #     df_user_history[label] = df_user_history[label] + df_user_history['is_booking'] * 5\n",
    "\n",
    "  df_user_history = df_user_history.drop(['activity_id', 'hotel_id','is_watching', 'is_bookmark'], axis=1)\n",
    "\n",
    "  df_user_history = df_user_history.groupby('user_id').mean()\n",
    "\n",
    "  return df_user_history\n",
    "\n",
    "def generate_user_score_for_all_user(df_user, df_hotel, labels):\n",
    "\n",
    "  df_user_history = pd.merge(df_user, df_hotel.drop(['hotel_name'],axis = 1), on='hotel_id', how='inner')\n",
    "\n",
    "  # for label in labels:\n",
    "  #     df_user_history[label] = df_user_history[label] + df_user_history['is_booking'] * 5\n",
    "\n",
    "  df_user_history = df_user_history.drop(['activity_id', 'hotel_id','is_watching', 'is_bookmark'], axis=1)\n",
    "\n",
    "  df_user_history = df_user_history.groupby('user_id').mean()\n",
    "\n",
    "  return df_user_history\n"
   ]
  },
  {
   "cell_type": "code",
   "execution_count": 9,
   "metadata": {
    "colab": {
     "base_uri": "https://localhost:8080/",
     "height": 394
    },
    "executionInfo": {
     "elapsed": 26,
     "status": "ok",
     "timestamp": 1733235080573,
     "user": {
      "displayName": "Rayhan Adi Wicaksono M008B4KY3708",
      "userId": "09134371268668555622"
     },
     "user_tz": -420
    },
    "id": "cs1AlYUUCj8m",
    "outputId": "6e7e8d3d-6e3a-47ce-c011-55a4f29ed5a0"
   },
   "outputs": [
    {
     "data": {
      "text/html": [
       "<div>\n",
       "<style scoped>\n",
       "    .dataframe tbody tr th:only-of-type {\n",
       "        vertical-align: middle;\n",
       "    }\n",
       "\n",
       "    .dataframe tbody tr th {\n",
       "        vertical-align: top;\n",
       "    }\n",
       "\n",
       "    .dataframe thead th {\n",
       "        text-align: right;\n",
       "    }\n",
       "</style>\n",
       "<table border=\"1\" class=\"dataframe\">\n",
       "  <thead>\n",
       "    <tr style=\"text-align: right;\">\n",
       "      <th></th>\n",
       "      <th>cheap</th>\n",
       "      <th>luxurious</th>\n",
       "      <th>clean</th>\n",
       "      <th>cozy</th>\n",
       "      <th>good service</th>\n",
       "      <th>nice view</th>\n",
       "      <th>parking</th>\n",
       "      <th>pool</th>\n",
       "      <th>spa</th>\n",
       "      <th>gym</th>\n",
       "      <th>wifi</th>\n",
       "      <th>strategic</th>\n",
       "      <th>delicious</th>\n",
       "      <th>breakfast</th>\n",
       "      <th>safety</th>\n",
       "      <th>family</th>\n",
       "      <th>pet</th>\n",
       "      <th>aesthetic</th>\n",
       "      <th>disability</th>\n",
       "      <th>laundry</th>\n",
       "    </tr>\n",
       "    <tr>\n",
       "      <th>user_id</th>\n",
       "      <th></th>\n",
       "      <th></th>\n",
       "      <th></th>\n",
       "      <th></th>\n",
       "      <th></th>\n",
       "      <th></th>\n",
       "      <th></th>\n",
       "      <th></th>\n",
       "      <th></th>\n",
       "      <th></th>\n",
       "      <th></th>\n",
       "      <th></th>\n",
       "      <th></th>\n",
       "      <th></th>\n",
       "      <th></th>\n",
       "      <th></th>\n",
       "      <th></th>\n",
       "      <th></th>\n",
       "      <th></th>\n",
       "      <th></th>\n",
       "    </tr>\n",
       "  </thead>\n",
       "  <tbody>\n",
       "    <tr>\n",
       "      <th>u0001</th>\n",
       "      <td>0.333333</td>\n",
       "      <td>0.666667</td>\n",
       "      <td>1.0</td>\n",
       "      <td>1.0</td>\n",
       "      <td>1.0</td>\n",
       "      <td>1.0</td>\n",
       "      <td>1.0</td>\n",
       "      <td>0.666667</td>\n",
       "      <td>1.000000</td>\n",
       "      <td>0.666667</td>\n",
       "      <td>1.0</td>\n",
       "      <td>1.0</td>\n",
       "      <td>0.666667</td>\n",
       "      <td>1.0</td>\n",
       "      <td>0.666667</td>\n",
       "      <td>0.333333</td>\n",
       "      <td>0.333333</td>\n",
       "      <td>0.000000</td>\n",
       "      <td>1.0</td>\n",
       "      <td>1.000000</td>\n",
       "    </tr>\n",
       "    <tr>\n",
       "      <th>u0002</th>\n",
       "      <td>0.000000</td>\n",
       "      <td>1.000000</td>\n",
       "      <td>1.0</td>\n",
       "      <td>1.0</td>\n",
       "      <td>1.0</td>\n",
       "      <td>1.0</td>\n",
       "      <td>1.0</td>\n",
       "      <td>1.000000</td>\n",
       "      <td>1.000000</td>\n",
       "      <td>1.000000</td>\n",
       "      <td>1.0</td>\n",
       "      <td>0.0</td>\n",
       "      <td>1.000000</td>\n",
       "      <td>1.0</td>\n",
       "      <td>0.000000</td>\n",
       "      <td>1.000000</td>\n",
       "      <td>0.500000</td>\n",
       "      <td>0.500000</td>\n",
       "      <td>0.5</td>\n",
       "      <td>1.000000</td>\n",
       "    </tr>\n",
       "    <tr>\n",
       "      <th>u0004</th>\n",
       "      <td>1.000000</td>\n",
       "      <td>0.000000</td>\n",
       "      <td>0.5</td>\n",
       "      <td>1.0</td>\n",
       "      <td>1.0</td>\n",
       "      <td>0.0</td>\n",
       "      <td>1.0</td>\n",
       "      <td>1.000000</td>\n",
       "      <td>0.500000</td>\n",
       "      <td>0.500000</td>\n",
       "      <td>1.0</td>\n",
       "      <td>0.5</td>\n",
       "      <td>0.500000</td>\n",
       "      <td>1.0</td>\n",
       "      <td>0.500000</td>\n",
       "      <td>0.500000</td>\n",
       "      <td>0.000000</td>\n",
       "      <td>0.000000</td>\n",
       "      <td>0.5</td>\n",
       "      <td>1.000000</td>\n",
       "    </tr>\n",
       "    <tr>\n",
       "      <th>u0005</th>\n",
       "      <td>0.000000</td>\n",
       "      <td>1.000000</td>\n",
       "      <td>1.0</td>\n",
       "      <td>1.0</td>\n",
       "      <td>1.0</td>\n",
       "      <td>1.0</td>\n",
       "      <td>1.0</td>\n",
       "      <td>1.000000</td>\n",
       "      <td>1.000000</td>\n",
       "      <td>0.500000</td>\n",
       "      <td>1.0</td>\n",
       "      <td>1.0</td>\n",
       "      <td>1.000000</td>\n",
       "      <td>1.0</td>\n",
       "      <td>0.500000</td>\n",
       "      <td>0.500000</td>\n",
       "      <td>0.500000</td>\n",
       "      <td>0.000000</td>\n",
       "      <td>0.5</td>\n",
       "      <td>1.000000</td>\n",
       "    </tr>\n",
       "    <tr>\n",
       "      <th>u0007</th>\n",
       "      <td>0.333333</td>\n",
       "      <td>0.666667</td>\n",
       "      <td>1.0</td>\n",
       "      <td>1.0</td>\n",
       "      <td>1.0</td>\n",
       "      <td>1.0</td>\n",
       "      <td>1.0</td>\n",
       "      <td>0.666667</td>\n",
       "      <td>1.000000</td>\n",
       "      <td>0.666667</td>\n",
       "      <td>1.0</td>\n",
       "      <td>1.0</td>\n",
       "      <td>1.000000</td>\n",
       "      <td>1.0</td>\n",
       "      <td>0.333333</td>\n",
       "      <td>0.000000</td>\n",
       "      <td>0.666667</td>\n",
       "      <td>0.000000</td>\n",
       "      <td>1.0</td>\n",
       "      <td>1.000000</td>\n",
       "    </tr>\n",
       "    <tr>\n",
       "      <th>u0008</th>\n",
       "      <td>0.000000</td>\n",
       "      <td>1.000000</td>\n",
       "      <td>1.0</td>\n",
       "      <td>1.0</td>\n",
       "      <td>1.0</td>\n",
       "      <td>1.0</td>\n",
       "      <td>1.0</td>\n",
       "      <td>1.000000</td>\n",
       "      <td>1.000000</td>\n",
       "      <td>1.000000</td>\n",
       "      <td>1.0</td>\n",
       "      <td>1.0</td>\n",
       "      <td>1.000000</td>\n",
       "      <td>1.0</td>\n",
       "      <td>0.000000</td>\n",
       "      <td>0.000000</td>\n",
       "      <td>1.000000</td>\n",
       "      <td>0.000000</td>\n",
       "      <td>1.0</td>\n",
       "      <td>1.000000</td>\n",
       "    </tr>\n",
       "    <tr>\n",
       "      <th>u0009</th>\n",
       "      <td>0.000000</td>\n",
       "      <td>1.000000</td>\n",
       "      <td>1.0</td>\n",
       "      <td>1.0</td>\n",
       "      <td>1.0</td>\n",
       "      <td>1.0</td>\n",
       "      <td>1.0</td>\n",
       "      <td>1.000000</td>\n",
       "      <td>0.500000</td>\n",
       "      <td>1.000000</td>\n",
       "      <td>1.0</td>\n",
       "      <td>0.5</td>\n",
       "      <td>1.000000</td>\n",
       "      <td>1.0</td>\n",
       "      <td>0.500000</td>\n",
       "      <td>1.000000</td>\n",
       "      <td>0.000000</td>\n",
       "      <td>0.500000</td>\n",
       "      <td>1.0</td>\n",
       "      <td>1.000000</td>\n",
       "    </tr>\n",
       "    <tr>\n",
       "      <th>u0010</th>\n",
       "      <td>0.000000</td>\n",
       "      <td>1.000000</td>\n",
       "      <td>1.0</td>\n",
       "      <td>1.0</td>\n",
       "      <td>1.0</td>\n",
       "      <td>1.0</td>\n",
       "      <td>1.0</td>\n",
       "      <td>1.000000</td>\n",
       "      <td>1.000000</td>\n",
       "      <td>1.000000</td>\n",
       "      <td>1.0</td>\n",
       "      <td>1.0</td>\n",
       "      <td>0.000000</td>\n",
       "      <td>1.0</td>\n",
       "      <td>1.000000</td>\n",
       "      <td>1.000000</td>\n",
       "      <td>0.000000</td>\n",
       "      <td>0.000000</td>\n",
       "      <td>1.0</td>\n",
       "      <td>1.000000</td>\n",
       "    </tr>\n",
       "    <tr>\n",
       "      <th>u0013</th>\n",
       "      <td>0.000000</td>\n",
       "      <td>1.000000</td>\n",
       "      <td>1.0</td>\n",
       "      <td>1.0</td>\n",
       "      <td>1.0</td>\n",
       "      <td>1.0</td>\n",
       "      <td>1.0</td>\n",
       "      <td>1.000000</td>\n",
       "      <td>0.666667</td>\n",
       "      <td>1.000000</td>\n",
       "      <td>1.0</td>\n",
       "      <td>1.0</td>\n",
       "      <td>0.666667</td>\n",
       "      <td>1.0</td>\n",
       "      <td>0.333333</td>\n",
       "      <td>1.000000</td>\n",
       "      <td>0.000000</td>\n",
       "      <td>0.333333</td>\n",
       "      <td>1.0</td>\n",
       "      <td>0.666667</td>\n",
       "    </tr>\n",
       "    <tr>\n",
       "      <th>u0015</th>\n",
       "      <td>1.000000</td>\n",
       "      <td>0.000000</td>\n",
       "      <td>1.0</td>\n",
       "      <td>1.0</td>\n",
       "      <td>0.0</td>\n",
       "      <td>0.0</td>\n",
       "      <td>1.0</td>\n",
       "      <td>1.000000</td>\n",
       "      <td>0.000000</td>\n",
       "      <td>0.000000</td>\n",
       "      <td>1.0</td>\n",
       "      <td>1.0</td>\n",
       "      <td>0.000000</td>\n",
       "      <td>1.0</td>\n",
       "      <td>0.000000</td>\n",
       "      <td>0.000000</td>\n",
       "      <td>1.000000</td>\n",
       "      <td>0.000000</td>\n",
       "      <td>1.0</td>\n",
       "      <td>1.000000</td>\n",
       "    </tr>\n",
       "  </tbody>\n",
       "</table>\n",
       "</div>"
      ],
      "text/plain": [
       "            cheap  luxurious  clean  cozy  good service  nice view  parking  \\\n",
       "user_id                                                                       \n",
       "u0001    0.333333   0.666667    1.0   1.0           1.0        1.0      1.0   \n",
       "u0002    0.000000   1.000000    1.0   1.0           1.0        1.0      1.0   \n",
       "u0004    1.000000   0.000000    0.5   1.0           1.0        0.0      1.0   \n",
       "u0005    0.000000   1.000000    1.0   1.0           1.0        1.0      1.0   \n",
       "u0007    0.333333   0.666667    1.0   1.0           1.0        1.0      1.0   \n",
       "u0008    0.000000   1.000000    1.0   1.0           1.0        1.0      1.0   \n",
       "u0009    0.000000   1.000000    1.0   1.0           1.0        1.0      1.0   \n",
       "u0010    0.000000   1.000000    1.0   1.0           1.0        1.0      1.0   \n",
       "u0013    0.000000   1.000000    1.0   1.0           1.0        1.0      1.0   \n",
       "u0015    1.000000   0.000000    1.0   1.0           0.0        0.0      1.0   \n",
       "\n",
       "             pool       spa       gym  wifi  strategic  delicious  breakfast  \\\n",
       "user_id                                                                        \n",
       "u0001    0.666667  1.000000  0.666667   1.0        1.0   0.666667        1.0   \n",
       "u0002    1.000000  1.000000  1.000000   1.0        0.0   1.000000        1.0   \n",
       "u0004    1.000000  0.500000  0.500000   1.0        0.5   0.500000        1.0   \n",
       "u0005    1.000000  1.000000  0.500000   1.0        1.0   1.000000        1.0   \n",
       "u0007    0.666667  1.000000  0.666667   1.0        1.0   1.000000        1.0   \n",
       "u0008    1.000000  1.000000  1.000000   1.0        1.0   1.000000        1.0   \n",
       "u0009    1.000000  0.500000  1.000000   1.0        0.5   1.000000        1.0   \n",
       "u0010    1.000000  1.000000  1.000000   1.0        1.0   0.000000        1.0   \n",
       "u0013    1.000000  0.666667  1.000000   1.0        1.0   0.666667        1.0   \n",
       "u0015    1.000000  0.000000  0.000000   1.0        1.0   0.000000        1.0   \n",
       "\n",
       "           safety    family       pet  aesthetic  disability   laundry  \n",
       "user_id                                                                 \n",
       "u0001    0.666667  0.333333  0.333333   0.000000         1.0  1.000000  \n",
       "u0002    0.000000  1.000000  0.500000   0.500000         0.5  1.000000  \n",
       "u0004    0.500000  0.500000  0.000000   0.000000         0.5  1.000000  \n",
       "u0005    0.500000  0.500000  0.500000   0.000000         0.5  1.000000  \n",
       "u0007    0.333333  0.000000  0.666667   0.000000         1.0  1.000000  \n",
       "u0008    0.000000  0.000000  1.000000   0.000000         1.0  1.000000  \n",
       "u0009    0.500000  1.000000  0.000000   0.500000         1.0  1.000000  \n",
       "u0010    1.000000  1.000000  0.000000   0.000000         1.0  1.000000  \n",
       "u0013    0.333333  1.000000  0.000000   0.333333         1.0  0.666667  \n",
       "u0015    0.000000  0.000000  1.000000   0.000000         1.0  1.000000  "
      ]
     },
     "execution_count": 9,
     "metadata": {},
     "output_type": "execute_result"
    }
   ],
   "source": [
    "df_user = generate_user_score_for_all_user(df_user, df_hotel, labels)\n",
    "df_user.head(10)"
   ]
  },
  {
   "cell_type": "code",
   "execution_count": 10,
   "metadata": {
    "colab": {
     "base_uri": "https://localhost:8080/"
    },
    "executionInfo": {
     "elapsed": 24,
     "status": "ok",
     "timestamp": 1733235080573,
     "user": {
      "displayName": "Rayhan Adi Wicaksono M008B4KY3708",
      "userId": "09134371268668555622"
     },
     "user_tz": -420
    },
    "id": "wT4BsWOkvWbt",
    "outputId": "db84c4a7-a921-410f-a102-2e6dae123e1a"
   },
   "outputs": [
    {
     "name": "stdout",
     "output_type": "stream",
     "text": [
      "<class 'pandas.core.frame.DataFrame'>\n",
      "Index: 1280 entries, u0001 to u1500\n",
      "Data columns (total 20 columns):\n",
      " #   Column        Non-Null Count  Dtype  \n",
      "---  ------        --------------  -----  \n",
      " 0   cheap         1280 non-null   float64\n",
      " 1   luxurious     1280 non-null   float64\n",
      " 2   clean         1280 non-null   float64\n",
      " 3   cozy          1280 non-null   float64\n",
      " 4   good service  1280 non-null   float64\n",
      " 5   nice view     1280 non-null   float64\n",
      " 6   parking       1280 non-null   float64\n",
      " 7   pool          1280 non-null   float64\n",
      " 8   spa           1280 non-null   float64\n",
      " 9   gym           1280 non-null   float64\n",
      " 10  wifi          1280 non-null   float64\n",
      " 11  strategic     1280 non-null   float64\n",
      " 12  delicious     1280 non-null   float64\n",
      " 13  breakfast     1280 non-null   float64\n",
      " 14  safety        1280 non-null   float64\n",
      " 15  family        1280 non-null   float64\n",
      " 16  pet           1280 non-null   float64\n",
      " 17  aesthetic     1280 non-null   float64\n",
      " 18  disability    1280 non-null   float64\n",
      " 19  laundry       1280 non-null   float64\n",
      "dtypes: float64(20)\n",
      "memory usage: 210.0+ KB\n"
     ]
    }
   ],
   "source": [
    "df_user.info()"
   ]
  },
  {
   "cell_type": "code",
   "execution_count": 11,
   "metadata": {
    "colab": {
     "base_uri": "https://localhost:8080/"
    },
    "executionInfo": {
     "elapsed": 22,
     "status": "ok",
     "timestamp": 1733235080573,
     "user": {
      "displayName": "Rayhan Adi Wicaksono M008B4KY3708",
      "userId": "09134371268668555622"
     },
     "user_tz": -420
    },
    "id": "_tnaAaAMveR0",
    "outputId": "e9ee8d15-0d1b-43b5-b3fe-e5b9233cf159"
   },
   "outputs": [
    {
     "name": "stdout",
     "output_type": "stream",
     "text": [
      "<class 'pandas.core.frame.DataFrame'>\n",
      "RangeIndex: 23 entries, 0 to 22\n",
      "Data columns (total 22 columns):\n",
      " #   Column        Non-Null Count  Dtype \n",
      "---  ------        --------------  ----- \n",
      " 0   hotel_id      23 non-null     object\n",
      " 1   hotel_name    23 non-null     object\n",
      " 2   cheap         23 non-null     int64 \n",
      " 3   luxurious     23 non-null     int64 \n",
      " 4   clean         23 non-null     int64 \n",
      " 5   cozy          23 non-null     int64 \n",
      " 6   good service  23 non-null     int64 \n",
      " 7   nice view     23 non-null     int64 \n",
      " 8   parking       23 non-null     int64 \n",
      " 9   pool          23 non-null     int64 \n",
      " 10  spa           23 non-null     int64 \n",
      " 11  gym           23 non-null     int64 \n",
      " 12  wifi          23 non-null     int64 \n",
      " 13  strategic     23 non-null     int64 \n",
      " 14  delicious     23 non-null     int64 \n",
      " 15  breakfast     23 non-null     int64 \n",
      " 16  safety        23 non-null     int64 \n",
      " 17  family        23 non-null     int64 \n",
      " 18  pet           23 non-null     int64 \n",
      " 19  aesthetic     23 non-null     int64 \n",
      " 20  disability    23 non-null     int64 \n",
      " 21  laundry       23 non-null     int64 \n",
      "dtypes: int64(20), object(2)\n",
      "memory usage: 4.1+ KB\n"
     ]
    }
   ],
   "source": [
    "df_hotel.info()"
   ]
  },
  {
   "cell_type": "markdown",
   "metadata": {
    "id": "YQa3LoYKRcWF"
   },
   "source": [
    "## Modeling"
   ]
  },
  {
   "cell_type": "code",
   "execution_count": 12,
   "metadata": {
    "colab": {
     "base_uri": "https://localhost:8080/",
     "height": 235
    },
    "executionInfo": {
     "elapsed": 19,
     "status": "ok",
     "timestamp": 1733235080573,
     "user": {
      "displayName": "Rayhan Adi Wicaksono M008B4KY3708",
      "userId": "09134371268668555622"
     },
     "user_tz": -420
    },
    "id": "OXoN-zd6CriQ",
    "outputId": "4bf1bf6c-48a4-4b5e-8a43-fa13eee8440e"
   },
   "outputs": [
    {
     "data": {
      "text/html": [
       "<div>\n",
       "<style scoped>\n",
       "    .dataframe tbody tr th:only-of-type {\n",
       "        vertical-align: middle;\n",
       "    }\n",
       "\n",
       "    .dataframe tbody tr th {\n",
       "        vertical-align: top;\n",
       "    }\n",
       "\n",
       "    .dataframe thead th {\n",
       "        text-align: right;\n",
       "    }\n",
       "</style>\n",
       "<table border=\"1\" class=\"dataframe\">\n",
       "  <thead>\n",
       "    <tr style=\"text-align: right;\">\n",
       "      <th></th>\n",
       "      <th>hotel_id</th>\n",
       "      <th>cheap</th>\n",
       "      <th>luxurious</th>\n",
       "      <th>clean</th>\n",
       "      <th>cozy</th>\n",
       "      <th>good service</th>\n",
       "      <th>nice view</th>\n",
       "      <th>parking</th>\n",
       "      <th>pool</th>\n",
       "      <th>spa</th>\n",
       "      <th>...</th>\n",
       "      <th>wifi</th>\n",
       "      <th>strategic</th>\n",
       "      <th>delicious</th>\n",
       "      <th>breakfast</th>\n",
       "      <th>safety</th>\n",
       "      <th>family</th>\n",
       "      <th>pet</th>\n",
       "      <th>aesthetic</th>\n",
       "      <th>disability</th>\n",
       "      <th>laundry</th>\n",
       "    </tr>\n",
       "  </thead>\n",
       "  <tbody>\n",
       "    <tr>\n",
       "      <th>0</th>\n",
       "      <td>h1001</td>\n",
       "      <td>0</td>\n",
       "      <td>1</td>\n",
       "      <td>1</td>\n",
       "      <td>1</td>\n",
       "      <td>1</td>\n",
       "      <td>1</td>\n",
       "      <td>1</td>\n",
       "      <td>1</td>\n",
       "      <td>1</td>\n",
       "      <td>...</td>\n",
       "      <td>1</td>\n",
       "      <td>1</td>\n",
       "      <td>1</td>\n",
       "      <td>1</td>\n",
       "      <td>1</td>\n",
       "      <td>1</td>\n",
       "      <td>0</td>\n",
       "      <td>0</td>\n",
       "      <td>1</td>\n",
       "      <td>0</td>\n",
       "    </tr>\n",
       "    <tr>\n",
       "      <th>1</th>\n",
       "      <td>h1002</td>\n",
       "      <td>0</td>\n",
       "      <td>1</td>\n",
       "      <td>1</td>\n",
       "      <td>1</td>\n",
       "      <td>1</td>\n",
       "      <td>1</td>\n",
       "      <td>1</td>\n",
       "      <td>1</td>\n",
       "      <td>0</td>\n",
       "      <td>...</td>\n",
       "      <td>1</td>\n",
       "      <td>1</td>\n",
       "      <td>1</td>\n",
       "      <td>1</td>\n",
       "      <td>0</td>\n",
       "      <td>1</td>\n",
       "      <td>0</td>\n",
       "      <td>1</td>\n",
       "      <td>1</td>\n",
       "      <td>1</td>\n",
       "    </tr>\n",
       "    <tr>\n",
       "      <th>2</th>\n",
       "      <td>h1003</td>\n",
       "      <td>1</td>\n",
       "      <td>0</td>\n",
       "      <td>1</td>\n",
       "      <td>1</td>\n",
       "      <td>1</td>\n",
       "      <td>0</td>\n",
       "      <td>1</td>\n",
       "      <td>1</td>\n",
       "      <td>1</td>\n",
       "      <td>...</td>\n",
       "      <td>1</td>\n",
       "      <td>1</td>\n",
       "      <td>1</td>\n",
       "      <td>1</td>\n",
       "      <td>1</td>\n",
       "      <td>1</td>\n",
       "      <td>0</td>\n",
       "      <td>1</td>\n",
       "      <td>1</td>\n",
       "      <td>1</td>\n",
       "    </tr>\n",
       "    <tr>\n",
       "      <th>3</th>\n",
       "      <td>h1004</td>\n",
       "      <td>0</td>\n",
       "      <td>1</td>\n",
       "      <td>1</td>\n",
       "      <td>1</td>\n",
       "      <td>1</td>\n",
       "      <td>1</td>\n",
       "      <td>1</td>\n",
       "      <td>1</td>\n",
       "      <td>1</td>\n",
       "      <td>...</td>\n",
       "      <td>1</td>\n",
       "      <td>1</td>\n",
       "      <td>0</td>\n",
       "      <td>1</td>\n",
       "      <td>0</td>\n",
       "      <td>1</td>\n",
       "      <td>0</td>\n",
       "      <td>0</td>\n",
       "      <td>1</td>\n",
       "      <td>1</td>\n",
       "    </tr>\n",
       "    <tr>\n",
       "      <th>4</th>\n",
       "      <td>h1005</td>\n",
       "      <td>0</td>\n",
       "      <td>1</td>\n",
       "      <td>1</td>\n",
       "      <td>1</td>\n",
       "      <td>1</td>\n",
       "      <td>1</td>\n",
       "      <td>1</td>\n",
       "      <td>1</td>\n",
       "      <td>1</td>\n",
       "      <td>...</td>\n",
       "      <td>1</td>\n",
       "      <td>1</td>\n",
       "      <td>1</td>\n",
       "      <td>1</td>\n",
       "      <td>1</td>\n",
       "      <td>1</td>\n",
       "      <td>0</td>\n",
       "      <td>1</td>\n",
       "      <td>1</td>\n",
       "      <td>0</td>\n",
       "    </tr>\n",
       "  </tbody>\n",
       "</table>\n",
       "<p>5 rows × 21 columns</p>\n",
       "</div>"
      ],
      "text/plain": [
       "  hotel_id  cheap  luxurious  clean  cozy  good service  nice view  parking  \\\n",
       "0    h1001      0          1      1     1             1          1        1   \n",
       "1    h1002      0          1      1     1             1          1        1   \n",
       "2    h1003      1          0      1     1             1          0        1   \n",
       "3    h1004      0          1      1     1             1          1        1   \n",
       "4    h1005      0          1      1     1             1          1        1   \n",
       "\n",
       "   pool  spa  ...  wifi  strategic  delicious  breakfast  safety  family  pet  \\\n",
       "0     1    1  ...     1          1          1          1       1       1    0   \n",
       "1     1    0  ...     1          1          1          1       0       1    0   \n",
       "2     1    1  ...     1          1          1          1       1       1    0   \n",
       "3     1    1  ...     1          1          0          1       0       1    0   \n",
       "4     1    1  ...     1          1          1          1       1       1    0   \n",
       "\n",
       "   aesthetic  disability  laundry  \n",
       "0          0           1        0  \n",
       "1          1           1        1  \n",
       "2          1           1        1  \n",
       "3          0           1        1  \n",
       "4          1           1        0  \n",
       "\n",
       "[5 rows x 21 columns]"
      ]
     },
     "execution_count": 12,
     "metadata": {},
     "output_type": "execute_result"
    }
   ],
   "source": [
    "df_hotel = df_hotel.drop(['hotel_name'],axis = 1)\n",
    "df_hotel.head()"
   ]
  },
  {
   "cell_type": "code",
   "execution_count": 13,
   "metadata": {
    "colab": {
     "base_uri": "https://localhost:8080/",
     "height": 235
    },
    "executionInfo": {
     "elapsed": 18,
     "status": "ok",
     "timestamp": 1733235080573,
     "user": {
      "displayName": "Rayhan Adi Wicaksono M008B4KY3708",
      "userId": "09134371268668555622"
     },
     "user_tz": -420
    },
    "id": "ro1EXXtCSkiI",
    "outputId": "351cbdca-8b57-462f-c33a-23c0ea36b83c"
   },
   "outputs": [
    {
     "data": {
      "text/html": [
       "<div>\n",
       "<style scoped>\n",
       "    .dataframe tbody tr th:only-of-type {\n",
       "        vertical-align: middle;\n",
       "    }\n",
       "\n",
       "    .dataframe tbody tr th {\n",
       "        vertical-align: top;\n",
       "    }\n",
       "\n",
       "    .dataframe thead th {\n",
       "        text-align: right;\n",
       "    }\n",
       "</style>\n",
       "<table border=\"1\" class=\"dataframe\">\n",
       "  <thead>\n",
       "    <tr style=\"text-align: right;\">\n",
       "      <th></th>\n",
       "      <th>user_id</th>\n",
       "      <th>cheap</th>\n",
       "      <th>luxurious</th>\n",
       "      <th>clean</th>\n",
       "      <th>cozy</th>\n",
       "      <th>good service</th>\n",
       "      <th>nice view</th>\n",
       "      <th>parking</th>\n",
       "      <th>pool</th>\n",
       "      <th>spa</th>\n",
       "      <th>...</th>\n",
       "      <th>wifi</th>\n",
       "      <th>strategic</th>\n",
       "      <th>delicious</th>\n",
       "      <th>breakfast</th>\n",
       "      <th>safety</th>\n",
       "      <th>family</th>\n",
       "      <th>pet</th>\n",
       "      <th>aesthetic</th>\n",
       "      <th>disability</th>\n",
       "      <th>laundry</th>\n",
       "    </tr>\n",
       "  </thead>\n",
       "  <tbody>\n",
       "    <tr>\n",
       "      <th>0</th>\n",
       "      <td>u0001</td>\n",
       "      <td>0.333333</td>\n",
       "      <td>0.666667</td>\n",
       "      <td>1.0</td>\n",
       "      <td>1.0</td>\n",
       "      <td>1.0</td>\n",
       "      <td>1.0</td>\n",
       "      <td>1.0</td>\n",
       "      <td>0.666667</td>\n",
       "      <td>1.0</td>\n",
       "      <td>...</td>\n",
       "      <td>1.0</td>\n",
       "      <td>1.0</td>\n",
       "      <td>0.666667</td>\n",
       "      <td>1.0</td>\n",
       "      <td>0.666667</td>\n",
       "      <td>0.333333</td>\n",
       "      <td>0.333333</td>\n",
       "      <td>0.0</td>\n",
       "      <td>1.0</td>\n",
       "      <td>1.0</td>\n",
       "    </tr>\n",
       "    <tr>\n",
       "      <th>1</th>\n",
       "      <td>u0002</td>\n",
       "      <td>0.000000</td>\n",
       "      <td>1.000000</td>\n",
       "      <td>1.0</td>\n",
       "      <td>1.0</td>\n",
       "      <td>1.0</td>\n",
       "      <td>1.0</td>\n",
       "      <td>1.0</td>\n",
       "      <td>1.000000</td>\n",
       "      <td>1.0</td>\n",
       "      <td>...</td>\n",
       "      <td>1.0</td>\n",
       "      <td>0.0</td>\n",
       "      <td>1.000000</td>\n",
       "      <td>1.0</td>\n",
       "      <td>0.000000</td>\n",
       "      <td>1.000000</td>\n",
       "      <td>0.500000</td>\n",
       "      <td>0.5</td>\n",
       "      <td>0.5</td>\n",
       "      <td>1.0</td>\n",
       "    </tr>\n",
       "    <tr>\n",
       "      <th>2</th>\n",
       "      <td>u0004</td>\n",
       "      <td>1.000000</td>\n",
       "      <td>0.000000</td>\n",
       "      <td>0.5</td>\n",
       "      <td>1.0</td>\n",
       "      <td>1.0</td>\n",
       "      <td>0.0</td>\n",
       "      <td>1.0</td>\n",
       "      <td>1.000000</td>\n",
       "      <td>0.5</td>\n",
       "      <td>...</td>\n",
       "      <td>1.0</td>\n",
       "      <td>0.5</td>\n",
       "      <td>0.500000</td>\n",
       "      <td>1.0</td>\n",
       "      <td>0.500000</td>\n",
       "      <td>0.500000</td>\n",
       "      <td>0.000000</td>\n",
       "      <td>0.0</td>\n",
       "      <td>0.5</td>\n",
       "      <td>1.0</td>\n",
       "    </tr>\n",
       "    <tr>\n",
       "      <th>3</th>\n",
       "      <td>u0005</td>\n",
       "      <td>0.000000</td>\n",
       "      <td>1.000000</td>\n",
       "      <td>1.0</td>\n",
       "      <td>1.0</td>\n",
       "      <td>1.0</td>\n",
       "      <td>1.0</td>\n",
       "      <td>1.0</td>\n",
       "      <td>1.000000</td>\n",
       "      <td>1.0</td>\n",
       "      <td>...</td>\n",
       "      <td>1.0</td>\n",
       "      <td>1.0</td>\n",
       "      <td>1.000000</td>\n",
       "      <td>1.0</td>\n",
       "      <td>0.500000</td>\n",
       "      <td>0.500000</td>\n",
       "      <td>0.500000</td>\n",
       "      <td>0.0</td>\n",
       "      <td>0.5</td>\n",
       "      <td>1.0</td>\n",
       "    </tr>\n",
       "    <tr>\n",
       "      <th>4</th>\n",
       "      <td>u0007</td>\n",
       "      <td>0.333333</td>\n",
       "      <td>0.666667</td>\n",
       "      <td>1.0</td>\n",
       "      <td>1.0</td>\n",
       "      <td>1.0</td>\n",
       "      <td>1.0</td>\n",
       "      <td>1.0</td>\n",
       "      <td>0.666667</td>\n",
       "      <td>1.0</td>\n",
       "      <td>...</td>\n",
       "      <td>1.0</td>\n",
       "      <td>1.0</td>\n",
       "      <td>1.000000</td>\n",
       "      <td>1.0</td>\n",
       "      <td>0.333333</td>\n",
       "      <td>0.000000</td>\n",
       "      <td>0.666667</td>\n",
       "      <td>0.0</td>\n",
       "      <td>1.0</td>\n",
       "      <td>1.0</td>\n",
       "    </tr>\n",
       "  </tbody>\n",
       "</table>\n",
       "<p>5 rows × 21 columns</p>\n",
       "</div>"
      ],
      "text/plain": [
       "  user_id     cheap  luxurious  clean  cozy  good service  nice view  parking  \\\n",
       "0   u0001  0.333333   0.666667    1.0   1.0           1.0        1.0      1.0   \n",
       "1   u0002  0.000000   1.000000    1.0   1.0           1.0        1.0      1.0   \n",
       "2   u0004  1.000000   0.000000    0.5   1.0           1.0        0.0      1.0   \n",
       "3   u0005  0.000000   1.000000    1.0   1.0           1.0        1.0      1.0   \n",
       "4   u0007  0.333333   0.666667    1.0   1.0           1.0        1.0      1.0   \n",
       "\n",
       "       pool  spa  ...  wifi  strategic  delicious  breakfast    safety  \\\n",
       "0  0.666667  1.0  ...   1.0        1.0   0.666667        1.0  0.666667   \n",
       "1  1.000000  1.0  ...   1.0        0.0   1.000000        1.0  0.000000   \n",
       "2  1.000000  0.5  ...   1.0        0.5   0.500000        1.0  0.500000   \n",
       "3  1.000000  1.0  ...   1.0        1.0   1.000000        1.0  0.500000   \n",
       "4  0.666667  1.0  ...   1.0        1.0   1.000000        1.0  0.333333   \n",
       "\n",
       "     family       pet  aesthetic  disability  laundry  \n",
       "0  0.333333  0.333333        0.0         1.0      1.0  \n",
       "1  1.000000  0.500000        0.5         0.5      1.0  \n",
       "2  0.500000  0.000000        0.0         0.5      1.0  \n",
       "3  0.500000  0.500000        0.0         0.5      1.0  \n",
       "4  0.000000  0.666667        0.0         1.0      1.0  \n",
       "\n",
       "[5 rows x 21 columns]"
      ]
     },
     "execution_count": 13,
     "metadata": {},
     "output_type": "execute_result"
    }
   ],
   "source": [
    "df_user = df_user.reset_index()\n",
    "# df_user = df_user.drop(['user_id'],axis = 1)\n",
    "df_user.head()"
   ]
  },
  {
   "cell_type": "code",
   "execution_count": 14,
   "metadata": {
    "colab": {
     "base_uri": "https://localhost:8080/"
    },
    "executionInfo": {
     "elapsed": 16,
     "status": "ok",
     "timestamp": 1733235080573,
     "user": {
      "displayName": "Rayhan Adi Wicaksono M008B4KY3708",
      "userId": "09134371268668555622"
     },
     "user_tz": -420
    },
    "id": "fI8_iiNT0F4J",
    "outputId": "b9226217-44b4-4c44-9717-1600885dd222"
   },
   "outputs": [
    {
     "data": {
      "text/plain": [
       "Index(['user_id', 'cheap', 'luxurious', 'clean', 'cozy', 'good service',\n",
       "       'nice view', 'parking', 'pool', 'spa', 'gym', 'wifi', 'strategic',\n",
       "       'delicious', 'breakfast', 'safety', 'family', 'pet', 'aesthetic',\n",
       "       'disability', 'laundry'],\n",
       "      dtype='object')"
      ]
     },
     "execution_count": 14,
     "metadata": {},
     "output_type": "execute_result"
    }
   ],
   "source": [
    "df_user.columns"
   ]
  },
  {
   "cell_type": "code",
   "execution_count": 15,
   "metadata": {
    "colab": {
     "base_uri": "https://localhost:8080/",
     "height": 423
    },
    "executionInfo": {
     "elapsed": 13,
     "status": "ok",
     "timestamp": 1733235080574,
     "user": {
      "displayName": "Rayhan Adi Wicaksono M008B4KY3708",
      "userId": "09134371268668555622"
     },
     "user_tz": -420
    },
    "id": "-QsK2GdCwGw0",
    "outputId": "93e15973-7ead-4981-ec47-f4476cfe48d8"
   },
   "outputs": [
    {
     "data": {
      "text/html": [
       "<div>\n",
       "<style scoped>\n",
       "    .dataframe tbody tr th:only-of-type {\n",
       "        vertical-align: middle;\n",
       "    }\n",
       "\n",
       "    .dataframe tbody tr th {\n",
       "        vertical-align: top;\n",
       "    }\n",
       "\n",
       "    .dataframe thead th {\n",
       "        text-align: right;\n",
       "    }\n",
       "</style>\n",
       "<table border=\"1\" class=\"dataframe\">\n",
       "  <thead>\n",
       "    <tr style=\"text-align: right;\">\n",
       "      <th></th>\n",
       "      <th>user_id</th>\n",
       "      <th>hotel_id</th>\n",
       "      <th>score</th>\n",
       "    </tr>\n",
       "  </thead>\n",
       "  <tbody>\n",
       "    <tr>\n",
       "      <th>0</th>\n",
       "      <td>u1197</td>\n",
       "      <td>h1013</td>\n",
       "      <td>1</td>\n",
       "    </tr>\n",
       "    <tr>\n",
       "      <th>1</th>\n",
       "      <td>u1386</td>\n",
       "      <td>h1019</td>\n",
       "      <td>0</td>\n",
       "    </tr>\n",
       "    <tr>\n",
       "      <th>2</th>\n",
       "      <td>u0941</td>\n",
       "      <td>h1002</td>\n",
       "      <td>1</td>\n",
       "    </tr>\n",
       "    <tr>\n",
       "      <th>3</th>\n",
       "      <td>u0089</td>\n",
       "      <td>h1016</td>\n",
       "      <td>0</td>\n",
       "    </tr>\n",
       "    <tr>\n",
       "      <th>4</th>\n",
       "      <td>u0389</td>\n",
       "      <td>h1021</td>\n",
       "      <td>1</td>\n",
       "    </tr>\n",
       "    <tr>\n",
       "      <th>...</th>\n",
       "      <td>...</td>\n",
       "      <td>...</td>\n",
       "      <td>...</td>\n",
       "    </tr>\n",
       "    <tr>\n",
       "      <th>2995</th>\n",
       "      <td>u1318</td>\n",
       "      <td>h1010</td>\n",
       "      <td>0</td>\n",
       "    </tr>\n",
       "    <tr>\n",
       "      <th>2996</th>\n",
       "      <td>u0164</td>\n",
       "      <td>h1013</td>\n",
       "      <td>0</td>\n",
       "    </tr>\n",
       "    <tr>\n",
       "      <th>2997</th>\n",
       "      <td>u1036</td>\n",
       "      <td>h1002</td>\n",
       "      <td>1</td>\n",
       "    </tr>\n",
       "    <tr>\n",
       "      <th>2998</th>\n",
       "      <td>u1295</td>\n",
       "      <td>h1015</td>\n",
       "      <td>0</td>\n",
       "    </tr>\n",
       "    <tr>\n",
       "      <th>2999</th>\n",
       "      <td>u0604</td>\n",
       "      <td>h1020</td>\n",
       "      <td>1</td>\n",
       "    </tr>\n",
       "  </tbody>\n",
       "</table>\n",
       "<p>3000 rows × 3 columns</p>\n",
       "</div>"
      ],
      "text/plain": [
       "     user_id hotel_id  score\n",
       "0      u1197    h1013      1\n",
       "1      u1386    h1019      0\n",
       "2      u0941    h1002      1\n",
       "3      u0089    h1016      0\n",
       "4      u0389    h1021      1\n",
       "...      ...      ...    ...\n",
       "2995   u1318    h1010      0\n",
       "2996   u0164    h1013      0\n",
       "2997   u1036    h1002      1\n",
       "2998   u1295    h1015      0\n",
       "2999   u0604    h1020      1\n",
       "\n",
       "[3000 rows x 3 columns]"
      ]
     },
     "execution_count": 15,
     "metadata": {},
     "output_type": "execute_result"
    }
   ],
   "source": [
    "df_training"
   ]
  },
  {
   "cell_type": "code",
   "execution_count": 16,
   "metadata": {
    "colab": {
     "base_uri": "https://localhost:8080/"
    },
    "executionInfo": {
     "elapsed": 296,
     "status": "ok",
     "timestamp": 1733235080858,
     "user": {
      "displayName": "Rayhan Adi Wicaksono M008B4KY3708",
      "userId": "09134371268668555622"
     },
     "user_tz": -420
    },
    "id": "AYvzWOjLw6CR",
    "outputId": "b3df14c4-36aa-4fca-d32b-22110399b79a"
   },
   "outputs": [
    {
     "name": "stdout",
     "output_type": "stream",
     "text": [
      "<class 'pandas.core.frame.DataFrame'>\n",
      "RangeIndex: 3000 entries, 0 to 2999\n",
      "Data columns (total 20 columns):\n",
      " #   Column        Non-Null Count  Dtype\n",
      "---  ------        --------------  -----\n",
      " 0   cheap         3000 non-null   int64\n",
      " 1   luxurious     3000 non-null   int64\n",
      " 2   clean         3000 non-null   int64\n",
      " 3   cozy          3000 non-null   int64\n",
      " 4   good service  3000 non-null   int64\n",
      " 5   nice view     3000 non-null   int64\n",
      " 6   parking       3000 non-null   int64\n",
      " 7   pool          3000 non-null   int64\n",
      " 8   spa           3000 non-null   int64\n",
      " 9   gym           3000 non-null   int64\n",
      " 10  wifi          3000 non-null   int64\n",
      " 11  strategic     3000 non-null   int64\n",
      " 12  delicious     3000 non-null   int64\n",
      " 13  breakfast     3000 non-null   int64\n",
      " 14  safety        3000 non-null   int64\n",
      " 15  family        3000 non-null   int64\n",
      " 16  pet           3000 non-null   int64\n",
      " 17  aesthetic     3000 non-null   int64\n",
      " 18  disability    3000 non-null   int64\n",
      " 19  laundry       3000 non-null   int64\n",
      "dtypes: int64(20)\n",
      "memory usage: 468.9 KB\n"
     ]
    }
   ],
   "source": [
    "df_hotel_train = pd.merge(df_training, df_hotel, on='hotel_id', how='left')\n",
    "df_hotel_train = df_hotel_train.drop(['user_id', 'hotel_id', 'score'],axis = 1)\n",
    "df_hotel_train.info()"
   ]
  },
  {
   "cell_type": "code",
   "execution_count": 17,
   "metadata": {
    "colab": {
     "base_uri": "https://localhost:8080/"
    },
    "executionInfo": {
     "elapsed": 9,
     "status": "ok",
     "timestamp": 1733235080858,
     "user": {
      "displayName": "Rayhan Adi Wicaksono M008B4KY3708",
      "userId": "09134371268668555622"
     },
     "user_tz": -420
    },
    "id": "Gu9XJrMYxQIT",
    "outputId": "0ed4f371-edac-41db-fc27-4bd816ef93fb"
   },
   "outputs": [
    {
     "name": "stdout",
     "output_type": "stream",
     "text": [
      "<class 'pandas.core.frame.DataFrame'>\n",
      "RangeIndex: 3000 entries, 0 to 2999\n",
      "Data columns (total 20 columns):\n",
      " #   Column        Non-Null Count  Dtype  \n",
      "---  ------        --------------  -----  \n",
      " 0   cheap         3000 non-null   float64\n",
      " 1   luxurious     3000 non-null   float64\n",
      " 2   clean         3000 non-null   float64\n",
      " 3   cozy          3000 non-null   float64\n",
      " 4   good service  3000 non-null   float64\n",
      " 5   nice view     3000 non-null   float64\n",
      " 6   parking       3000 non-null   float64\n",
      " 7   pool          3000 non-null   float64\n",
      " 8   spa           3000 non-null   float64\n",
      " 9   gym           3000 non-null   float64\n",
      " 10  wifi          3000 non-null   float64\n",
      " 11  strategic     3000 non-null   float64\n",
      " 12  delicious     3000 non-null   float64\n",
      " 13  breakfast     3000 non-null   float64\n",
      " 14  safety        3000 non-null   float64\n",
      " 15  family        3000 non-null   float64\n",
      " 16  pet           3000 non-null   float64\n",
      " 17  aesthetic     3000 non-null   float64\n",
      " 18  disability    3000 non-null   float64\n",
      " 19  laundry       3000 non-null   float64\n",
      "dtypes: float64(20)\n",
      "memory usage: 468.9 KB\n"
     ]
    }
   ],
   "source": [
    "df_user_train = pd.merge(df_training, df_user, on='user_id', how='left')\n",
    "df_user_train = df_user_train.drop(['user_id', 'hotel_id', 'score'],axis = 1)\n",
    "df_user_train.info()"
   ]
  },
  {
   "cell_type": "code",
   "execution_count": 18,
   "metadata": {
    "colab": {
     "base_uri": "https://localhost:8080/"
    },
    "executionInfo": {
     "elapsed": 7,
     "status": "ok",
     "timestamp": 1733235080858,
     "user": {
      "displayName": "Rayhan Adi Wicaksono M008B4KY3708",
      "userId": "09134371268668555622"
     },
     "user_tz": -420
    },
    "id": "ifnKYqwgttM4",
    "outputId": "2641d905-d0c5-4bc4-f5ef-4b246ab69cef"
   },
   "outputs": [
    {
     "data": {
      "text/plain": [
       "array([1, 0, 1, ..., 1, 0, 1], dtype=int64)"
      ]
     },
     "execution_count": 18,
     "metadata": {},
     "output_type": "execute_result"
    }
   ],
   "source": [
    "df_training.head()\n",
    "y_train = df_training['score'].to_numpy()\n",
    "y_train"
   ]
  },
  {
   "cell_type": "code",
   "execution_count": 19,
   "metadata": {
    "executionInfo": {
     "elapsed": 5,
     "status": "ok",
     "timestamp": 1733235080858,
     "user": {
      "displayName": "Rayhan Adi Wicaksono M008B4KY3708",
      "userId": "09134371268668555622"
     },
     "user_tz": -420
    },
    "id": "pMFlQwQlS8wh"
   },
   "outputs": [],
   "source": [
    "# # scale training data\n",
    "# item_train_unscaled = hotel_train\n",
    "# user_train_unscaled = user_train\n",
    "# y_train_unscaled    = y_train\n",
    "\n",
    "# scalerItem = StandardScaler()\n",
    "# scalerItem.fit(item_train)\n",
    "# item_train = scalerItem.transform(item_train)\n",
    "\n",
    "# scalerUser = StandardScaler()\n",
    "# scalerUser.fit(user_train)\n",
    "# user_train = scalerUser.transform(user_train)\n",
    "\n",
    "# scalerTarget = MinMaxScaler((-1, 1))\n",
    "# scalerTarget.fit(y_train.reshape(-1, 1))\n",
    "# y_train = scalerTarget.transform(y_train.reshape(-1, 1))\n",
    "# #ynorm_test = scalerTarget.transform(y_test.reshape(-1, 1))\n",
    "\n",
    "# # print(np.allclose(item_train_unscaled, scalerItem.inverse_transform(item_train)))\n",
    "# # print(np.allclose(user_train_unscaled, scalerUser.inverse_transform(user_train)))"
   ]
  },
  {
   "cell_type": "code",
   "execution_count": 20,
   "metadata": {
    "colab": {
     "base_uri": "https://localhost:8080/",
     "height": 384
    },
    "executionInfo": {
     "elapsed": 806,
     "status": "ok",
     "timestamp": 1733235081659,
     "user": {
      "displayName": "Rayhan Adi Wicaksono M008B4KY3708",
      "userId": "09134371268668555622"
     },
     "user_tz": -420
    },
    "id": "lDLRTs-kTAeA",
    "outputId": "5a74862d-7040-40c4-daf3-4a3dd50bc90b"
   },
   "outputs": [
    {
     "name": "stdout",
     "output_type": "stream",
     "text": [
      "Model: \"model\"\n",
      "__________________________________________________________________________________________________\n",
      " Layer (type)                   Output Shape         Param #     Connected to                     \n",
      "==================================================================================================\n",
      " hotel_features (InputLayer)    [(None, 20)]         0           []                               \n",
      "                                                                                                  \n",
      " user_features (InputLayer)     [(None, 20)]         0           []                               \n",
      "                                                                                                  \n",
      " hotel_embedding1 (Dense)       (None, 512)          10752       ['hotel_features[0][0]']         \n",
      "                                                                                                  \n",
      " user_embedding1 (Dense)        (None, 512)          10752       ['user_features[0][0]']          \n",
      "                                                                                                  \n",
      " hotel_embedding (Dense)        (None, 256)          131328      ['hotel_embedding1[0][0]']       \n",
      "                                                                                                  \n",
      " user_embedding (Dense)         (None, 256)          131328      ['user_embedding1[0][0]']        \n",
      "                                                                                                  \n",
      " similarity (Dot)               (None, 1)            0           ['hotel_embedding[0][0]',        \n",
      "                                                                  'user_embedding[0][0]']         \n",
      "                                                                                                  \n",
      " output (Dense)                 (None, 1)            2           ['similarity[0][0]']             \n",
      "                                                                                                  \n",
      "==================================================================================================\n",
      "Total params: 284,162\n",
      "Trainable params: 284,162\n",
      "Non-trainable params: 0\n",
      "__________________________________________________________________________________________________\n"
     ]
    }
   ],
   "source": [
    "from tensorflow.keras.models import Model\n",
    "from tensorflow.keras.layers import Input, Dense, Dot\n",
    "\n",
    "# Hotel feature input\n",
    "hotel_input = Input(shape=(20,), name=\"hotel_features\")\n",
    "hotel_embedding = Dense(512, activation=\"relu\", name=\"hotel_embedding1\")(hotel_input)\n",
    "hotel_embedding = Dense(256, activation=\"relu\", name=\"hotel_embedding\")(hotel_embedding)\n",
    "\n",
    "# User profile input\n",
    "user_input = Input(shape=(20,), name=\"user_features\")\n",
    "user_embedding = Dense(512, activation=\"relu\", name=\"user_embedding1\")(user_input)\n",
    "user_embedding = Dense(256, activation=\"relu\", name=\"user_embedding\")(user_embedding)\n",
    "\n",
    "# Compute similarity\n",
    "similarity = Dot(axes=1, normalize=True, name=\"similarity\")([hotel_embedding, user_embedding])\n",
    "\n",
    "# Output layer\n",
    "output = Dense(1, activation=\"sigmoid\", name=\"output\")(similarity)\n",
    "\n",
    "# Build model\n",
    "model = Model(inputs=[hotel_input, user_input], outputs=output)\n",
    "model.compile(optimizer=\"adam\", loss=\"binary_crossentropy\", metrics=[\"accuracy\"])\n",
    "\n",
    "model.summary()"
   ]
  },
  {
   "cell_type": "code",
   "execution_count": 21,
   "metadata": {
    "executionInfo": {
     "elapsed": 8,
     "status": "ok",
     "timestamp": 1733235081659,
     "user": {
      "displayName": "Rayhan Adi Wicaksono M008B4KY3708",
      "userId": "09134371268668555622"
     },
     "user_tz": -420
    },
    "id": "hVtao3bmuore"
   },
   "outputs": [],
   "source": [
    "df_hotel_train = df_hotel_train.to_numpy()\n",
    "df_user_train = df_user_train.to_numpy()"
   ]
  },
  {
   "cell_type": "code",
   "execution_count": 22,
   "metadata": {
    "colab": {
     "base_uri": "https://localhost:8080/"
    },
    "executionInfo": {
     "elapsed": 8,
     "status": "ok",
     "timestamp": 1733235081660,
     "user": {
      "displayName": "Rayhan Adi Wicaksono M008B4KY3708",
      "userId": "09134371268668555622"
     },
     "user_tz": -420
    },
    "id": "sGAC8zUvu60e",
    "outputId": "6aff1d4a-1119-4167-a1cc-3390957ae735"
   },
   "outputs": [
    {
     "name": "stdout",
     "output_type": "stream",
     "text": [
      "(3000, 20)\n",
      "(3000, 20)\n",
      "(3000,)\n"
     ]
    }
   ],
   "source": [
    "print(df_hotel_train.shape)  # Example: (1000, 15)\n",
    "print(df_user_train.shape)   # Example: (1000, 15)\n",
    "print(y_train.shape)      # Example: (1000,)"
   ]
  },
  {
   "cell_type": "code",
   "execution_count": 23,
   "metadata": {
    "colab": {
     "base_uri": "https://localhost:8080/"
    },
    "executionInfo": {
     "elapsed": 7789,
     "status": "ok",
     "timestamp": 1733235089442,
     "user": {
      "displayName": "Rayhan Adi Wicaksono M008B4KY3708",
      "userId": "09134371268668555622"
     },
     "user_tz": -420
    },
    "id": "RfNipVZ6uZSC",
    "outputId": "225a7f9c-3fc2-4abe-e252-670e3c5e2e91"
   },
   "outputs": [
    {
     "name": "stdout",
     "output_type": "stream",
     "text": [
      "Epoch 1/25\n",
      "75/75 [==============================] - 2s 13ms/step - loss: 0.6523 - accuracy: 0.6967 - val_loss: 0.6437 - val_accuracy: 0.6950\n",
      "Epoch 2/25\n",
      "75/75 [==============================] - 1s 8ms/step - loss: 0.6371 - accuracy: 0.6967 - val_loss: 0.6322 - val_accuracy: 0.6950\n",
      "Epoch 3/25\n",
      "75/75 [==============================] - 1s 8ms/step - loss: 0.6280 - accuracy: 0.6967 - val_loss: 0.6254 - val_accuracy: 0.6950\n",
      "Epoch 4/25\n",
      "75/75 [==============================] - 1s 8ms/step - loss: 0.6222 - accuracy: 0.6967 - val_loss: 0.6209 - val_accuracy: 0.6950\n",
      "Epoch 5/25\n",
      "75/75 [==============================] - 1s 8ms/step - loss: 0.6186 - accuracy: 0.6967 - val_loss: 0.6184 - val_accuracy: 0.6950\n",
      "Epoch 6/25\n",
      "75/75 [==============================] - 1s 8ms/step - loss: 0.6166 - accuracy: 0.6967 - val_loss: 0.6171 - val_accuracy: 0.6950\n",
      "Epoch 7/25\n",
      "75/75 [==============================] - 1s 7ms/step - loss: 0.6153 - accuracy: 0.6967 - val_loss: 0.6159 - val_accuracy: 0.6950\n",
      "Epoch 8/25\n",
      "75/75 [==============================] - 1s 7ms/step - loss: 0.6146 - accuracy: 0.6967 - val_loss: 0.6155 - val_accuracy: 0.6950\n",
      "Epoch 9/25\n",
      "75/75 [==============================] - 1s 8ms/step - loss: 0.6141 - accuracy: 0.6967 - val_loss: 0.6156 - val_accuracy: 0.6950\n",
      "Epoch 10/25\n",
      "75/75 [==============================] - 1s 8ms/step - loss: 0.6139 - accuracy: 0.6967 - val_loss: 0.6158 - val_accuracy: 0.6950\n",
      "Epoch 11/25\n",
      "75/75 [==============================] - 1s 7ms/step - loss: 0.6142 - accuracy: 0.6967 - val_loss: 0.6151 - val_accuracy: 0.6950\n",
      "Epoch 12/25\n",
      "75/75 [==============================] - 1s 8ms/step - loss: 0.6138 - accuracy: 0.6967 - val_loss: 0.6151 - val_accuracy: 0.6950\n",
      "Epoch 13/25\n",
      "75/75 [==============================] - 1s 8ms/step - loss: 0.6138 - accuracy: 0.6967 - val_loss: 0.6151 - val_accuracy: 0.6950\n",
      "Epoch 14/25\n",
      "75/75 [==============================] - 1s 8ms/step - loss: 0.6138 - accuracy: 0.6967 - val_loss: 0.6150 - val_accuracy: 0.6950\n",
      "Epoch 15/25\n",
      "75/75 [==============================] - 1s 9ms/step - loss: 0.6141 - accuracy: 0.6967 - val_loss: 0.6151 - val_accuracy: 0.6950\n",
      "Epoch 16/25\n",
      "75/75 [==============================] - 1s 9ms/step - loss: 0.6138 - accuracy: 0.6967 - val_loss: 0.6151 - val_accuracy: 0.6950\n",
      "Epoch 17/25\n",
      "75/75 [==============================] - 1s 9ms/step - loss: 0.6137 - accuracy: 0.6967 - val_loss: 0.6150 - val_accuracy: 0.6950\n",
      "Epoch 18/25\n",
      "75/75 [==============================] - 1s 8ms/step - loss: 0.6137 - accuracy: 0.6967 - val_loss: 0.6152 - val_accuracy: 0.6950\n",
      "Epoch 19/25\n",
      "75/75 [==============================] - 1s 9ms/step - loss: 0.6138 - accuracy: 0.6967 - val_loss: 0.6152 - val_accuracy: 0.6950\n",
      "Epoch 20/25\n",
      "75/75 [==============================] - 1s 10ms/step - loss: 0.6136 - accuracy: 0.6967 - val_loss: 0.6152 - val_accuracy: 0.6950\n",
      "Epoch 21/25\n",
      "75/75 [==============================] - 1s 13ms/step - loss: 0.6137 - accuracy: 0.6967 - val_loss: 0.6151 - val_accuracy: 0.6950\n",
      "Epoch 22/25\n",
      "75/75 [==============================] - 1s 8ms/step - loss: 0.6137 - accuracy: 0.6967 - val_loss: 0.6152 - val_accuracy: 0.6950\n",
      "Epoch 23/25\n",
      "75/75 [==============================] - 1s 8ms/step - loss: 0.6135 - accuracy: 0.6967 - val_loss: 0.6154 - val_accuracy: 0.6950\n",
      "Epoch 24/25\n",
      "75/75 [==============================] - 1s 9ms/step - loss: 0.6135 - accuracy: 0.6967 - val_loss: 0.6160 - val_accuracy: 0.6950\n",
      "Epoch 25/25\n",
      "75/75 [==============================] - 1s 8ms/step - loss: 0.6136 - accuracy: 0.6967 - val_loss: 0.6156 - val_accuracy: 0.6950\n"
     ]
    }
   ],
   "source": [
    "history = model.fit(\n",
    "    [df_hotel_train, df_user_train],\n",
    "    y_train,\n",
    "    batch_size=32,\n",
    "    epochs=25,\n",
    "    validation_split=0.2\n",
    ")"
   ]
  },
  {
   "cell_type": "markdown",
   "metadata": {},
   "source": [
    "## Test model"
   ]
  },
  {
   "cell_type": "code",
   "execution_count": 24,
   "metadata": {},
   "outputs": [
    {
     "data": {
      "text/html": [
       "<div>\n",
       "<style scoped>\n",
       "    .dataframe tbody tr th:only-of-type {\n",
       "        vertical-align: middle;\n",
       "    }\n",
       "\n",
       "    .dataframe tbody tr th {\n",
       "        vertical-align: top;\n",
       "    }\n",
       "\n",
       "    .dataframe thead th {\n",
       "        text-align: right;\n",
       "    }\n",
       "</style>\n",
       "<table border=\"1\" class=\"dataframe\">\n",
       "  <thead>\n",
       "    <tr style=\"text-align: right;\">\n",
       "      <th></th>\n",
       "      <th>cheap</th>\n",
       "      <th>luxurious</th>\n",
       "      <th>clean</th>\n",
       "      <th>cozy</th>\n",
       "      <th>good service</th>\n",
       "      <th>nice view</th>\n",
       "      <th>parking</th>\n",
       "      <th>pool</th>\n",
       "      <th>spa</th>\n",
       "      <th>gym</th>\n",
       "      <th>wifi</th>\n",
       "      <th>strategic</th>\n",
       "      <th>delicious</th>\n",
       "      <th>breakfast</th>\n",
       "      <th>safety</th>\n",
       "      <th>family</th>\n",
       "      <th>pet</th>\n",
       "      <th>aesthetic</th>\n",
       "      <th>disability</th>\n",
       "      <th>laundry</th>\n",
       "    </tr>\n",
       "    <tr>\n",
       "      <th>user_id</th>\n",
       "      <th></th>\n",
       "      <th></th>\n",
       "      <th></th>\n",
       "      <th></th>\n",
       "      <th></th>\n",
       "      <th></th>\n",
       "      <th></th>\n",
       "      <th></th>\n",
       "      <th></th>\n",
       "      <th></th>\n",
       "      <th></th>\n",
       "      <th></th>\n",
       "      <th></th>\n",
       "      <th></th>\n",
       "      <th></th>\n",
       "      <th></th>\n",
       "      <th></th>\n",
       "      <th></th>\n",
       "      <th></th>\n",
       "      <th></th>\n",
       "    </tr>\n",
       "  </thead>\n",
       "  <tbody>\n",
       "    <tr>\n",
       "      <th>u0005</th>\n",
       "      <td>0.285714</td>\n",
       "      <td>0.714286</td>\n",
       "      <td>1.0</td>\n",
       "      <td>1.0</td>\n",
       "      <td>1.0</td>\n",
       "      <td>0.714286</td>\n",
       "      <td>1.0</td>\n",
       "      <td>1.0</td>\n",
       "      <td>0.857143</td>\n",
       "      <td>1.0</td>\n",
       "      <td>1.0</td>\n",
       "      <td>0.857143</td>\n",
       "      <td>1.0</td>\n",
       "      <td>0.857143</td>\n",
       "      <td>0.428571</td>\n",
       "      <td>0.857143</td>\n",
       "      <td>0.142857</td>\n",
       "      <td>0.571429</td>\n",
       "      <td>0.857143</td>\n",
       "      <td>0.857143</td>\n",
       "    </tr>\n",
       "  </tbody>\n",
       "</table>\n",
       "</div>"
      ],
      "text/plain": [
       "            cheap  luxurious  clean  cozy  good service  nice view  parking  \\\n",
       "user_id                                                                       \n",
       "u0005    0.285714   0.714286    1.0   1.0           1.0   0.714286      1.0   \n",
       "\n",
       "         pool       spa  gym  wifi  strategic  delicious  breakfast    safety  \\\n",
       "user_id                                                                         \n",
       "u0005     1.0  0.857143  1.0   1.0   0.857143        1.0   0.857143  0.428571   \n",
       "\n",
       "           family       pet  aesthetic  disability   laundry  \n",
       "user_id                                                       \n",
       "u0005    0.857143  0.142857   0.571429    0.857143  0.857143  "
      ]
     },
     "execution_count": 24,
     "metadata": {},
     "output_type": "execute_result"
    }
   ],
   "source": [
    "# Data manual\n",
    "data = [\n",
    "    {\"activity_id\": \"a0001\", \"user_id\": \"u0001\", \"hotel_id\": \"h1001\", \"is_bookmark\": 1, \"is_watching\": 0},\n",
    "    {\"activity_id\": \"a0002\", \"user_id\": \"u0002\", \"hotel_id\": \"h1002\", \"is_bookmark\": 0, \"is_watching\": 1},\n",
    "    {\"activity_id\": \"a0003\", \"user_id\": \"u0003\", \"hotel_id\": \"h1003\", \"is_bookmark\": 0, \"is_watching\": 1},\n",
    "    {\"activity_id\": \"a0004\", \"user_id\": \"u0004\", \"hotel_id\": \"h1004\", \"is_bookmark\": 1, \"is_watching\": 0},\n",
    "    {\"activity_id\": \"a0005\", \"user_id\": \"u0005\", \"hotel_id\": \"h1010\", \"is_bookmark\": 0, \"is_watching\": 1},\n",
    "    {\"activity_id\": \"a0005\", \"user_id\": \"u0005\", \"hotel_id\": \"h1011\", \"is_bookmark\": 0, \"is_watching\": 1},\n",
    "    {\"activity_id\": \"a0005\", \"user_id\": \"u0005\", \"hotel_id\": \"h1002\", \"is_bookmark\": 0, \"is_watching\": 1},\n",
    "    {\"activity_id\": \"a0005\", \"user_id\": \"u0005\", \"hotel_id\": \"h1005\", \"is_bookmark\": 1, \"is_watching\": 0},\n",
    "    {\"activity_id\": \"a0005\", \"user_id\": \"u0005\", \"hotel_id\": \"h1003\", \"is_bookmark\": 1, \"is_watching\": 0},\n",
    "    {\"activity_id\": \"a0005\", \"user_id\": \"u0005\", \"hotel_id\": \"h1007\", \"is_bookmark\": 1, \"is_watching\": 0},\n",
    "    {\"activity_id\": \"a0005\", \"user_id\": \"u0005\", \"hotel_id\": \"h1006\", \"is_bookmark\": 1, \"is_watching\": 0},\n",
    "]\n",
    "\n",
    "# Membuat DataFrame\n",
    "df_manual = pd.DataFrame(data)\n",
    "\n",
    "df_hotel1 = pd.read_csv(\"../data/listhotel.csv\")\n",
    "\n",
    "user5 = generate_user_score(df_manual, df_hotel1, \"u0005\", labels)\n",
    "user5"
   ]
  },
  {
   "cell_type": "code",
   "execution_count": 25,
   "metadata": {
    "colab": {
     "base_uri": "https://localhost:8080/"
    },
    "executionInfo": {
     "elapsed": 306,
     "status": "ok",
     "timestamp": 1733235089745,
     "user": {
      "displayName": "Rayhan Adi Wicaksono M008B4KY3708",
      "userId": "09134371268668555622"
     },
     "user_tz": -420
    },
    "id": "5vmlEYBeummw",
    "outputId": "36aac40a-7342-4c60-db7f-786793fb6100"
   },
   "outputs": [
    {
     "name": "stdout",
     "output_type": "stream",
     "text": [
      "1/1 [==============================] - 0s 119ms/step\n",
      "Top 10 recommendations for user:\n",
      "Hotel ID: h1018, Score: 0.34\n",
      "Hotel ID: h1010, Score: 0.33\n",
      "Hotel ID: h1002, Score: 0.32\n",
      "Hotel ID: h1020, Score: 0.32\n",
      "Hotel ID: h1016, Score: 0.32\n",
      "Hotel ID: h1001, Score: 0.32\n",
      "Hotel ID: h1021, Score: 0.32\n",
      "Hotel ID: h1008, Score: 0.32\n",
      "Hotel ID: h1006, Score: 0.32\n",
      "Hotel ID: h1005, Score: 0.32\n"
     ]
    }
   ],
   "source": [
    "user_feature = [1, 1.0, 0.8, 0.9, 1.0, 0.6, 0.7, 0.9, 1.0, 0.4, 1, 0.7, 1.0, 0.5, 0.6, 0.9, 0.8, 0.7, 0.9, 1.0]\n",
    "\n",
    "user_vector = np.array(user5).reshape(1, -1)\n",
    "hotel_ids = df_hotel['hotel_id'].to_numpy()\n",
    "hotel_vectors = df_hotel.drop(['hotel_id'],axis = 1).to_numpy()\n",
    "\n",
    "user_input = np.tile(user_vector, (hotel_vectors.shape[0], 1))\n",
    "\n",
    "# Combine inputs for prediction\n",
    "prediction_input = [hotel_vectors, user_input]\n",
    "\n",
    "# Predict scores\n",
    "predicted_scores = model.predict(prediction_input).flatten()\n",
    "\n",
    "# Rank hotels by predicted scores\n",
    "recommendations = sorted(zip(hotel_ids, predicted_scores), key=lambda x: x[1], reverse=True)\n",
    "\n",
    "# Display the top N recommendations\n",
    "top_n = 10\n",
    "print(f\"Top {top_n} recommendations for user:\")\n",
    "for hotel_id, score in recommendations[:top_n]:\n",
    "    print(f\"Hotel ID: {hotel_id}, Score: {score:.2f}\")"
   ]
  },
  {
   "cell_type": "markdown",
   "metadata": {},
   "source": [
    "## Save Model"
   ]
  },
  {
   "cell_type": "code",
   "execution_count": null,
   "metadata": {
    "executionInfo": {
     "elapsed": 4,
     "status": "ok",
     "timestamp": 1733235089745,
     "user": {
      "displayName": "Rayhan Adi Wicaksono M008B4KY3708",
      "userId": "09134371268668555622"
     },
     "user_tz": -420
    },
    "id": "3tgUmTT40m0B"
   },
   "outputs": [],
   "source": [
    "# change the name model \n",
    "# model.save(\"../model/model2.h5\")"
   ]
  }
 ],
 "metadata": {
  "colab": {
   "authorship_tag": "ABX9TyN1SU7AzmrMVHfOI9WjMvqr",
   "mount_file_id": "1DwCwkWqYzMNqxY6FaWCWxeQkZsBaFPJv",
   "provenance": []
  },
  "kernelspec": {
   "display_name": "base",
   "language": "python",
   "name": "python3"
  },
  "language_info": {
   "codemirror_mode": {
    "name": "ipython",
    "version": 3
   },
   "file_extension": ".py",
   "mimetype": "text/x-python",
   "name": "python",
   "nbconvert_exporter": "python",
   "pygments_lexer": "ipython3",
   "version": "3.9.12"
  }
 },
 "nbformat": 4,
 "nbformat_minor": 0
}
