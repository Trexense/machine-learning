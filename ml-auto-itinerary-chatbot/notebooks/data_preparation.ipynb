{
 "cells": [
  {
   "cell_type": "code",
   "execution_count": 3,
   "metadata": {},
   "outputs": [],
   "source": [
    "import pandas as pd"
   ]
  },
  {
   "cell_type": "code",
   "execution_count": 4,
   "metadata": {},
   "outputs": [],
   "source": [
    "df = pd.read_csv(\"data.csv\")"
   ]
  },
  {
   "cell_type": "code",
   "execution_count": 6,
   "metadata": {},
   "outputs": [
    {
     "data": {
      "text/html": [
       "<div>\n",
       "<style scoped>\n",
       "    .dataframe tbody tr th:only-of-type {\n",
       "        vertical-align: middle;\n",
       "    }\n",
       "\n",
       "    .dataframe tbody tr th {\n",
       "        vertical-align: top;\n",
       "    }\n",
       "\n",
       "    .dataframe thead th {\n",
       "        text-align: right;\n",
       "    }\n",
       "</style>\n",
       "<table border=\"1\" class=\"dataframe\">\n",
       "  <thead>\n",
       "    <tr style=\"text-align: right;\">\n",
       "      <th></th>\n",
       "      <th>Place</th>\n",
       "      <th>Location</th>\n",
       "      <th>Coordinate</th>\n",
       "      <th>Google Maps Rating</th>\n",
       "      <th>Google Reviews (Count)</th>\n",
       "      <th>Source</th>\n",
       "      <th>Description</th>\n",
       "      <th>Tourism/Visitor Fee (approx in USD)</th>\n",
       "    </tr>\n",
       "  </thead>\n",
       "  <tbody>\n",
       "    <tr>\n",
       "      <th>0</th>\n",
       "      <td>Tanah Lot</td>\n",
       "      <td>Beraban, Kec. Kediri, Kabupaten Tabanan, Bali ...</td>\n",
       "      <td>8.6212° S, 115.0868° E</td>\n",
       "      <td>4.6</td>\n",
       "      <td>75899</td>\n",
       "      <td>https://www.google.com/maps/place/Tanah+Lot/@-...</td>\n",
       "      <td>Tanah Lot is a rock formation off the Indonesi...</td>\n",
       "      <td>Tanah Lot entrance tickets cost 20,000 Rupiah ...</td>\n",
       "    </tr>\n",
       "  </tbody>\n",
       "</table>\n",
       "</div>"
      ],
      "text/plain": [
       "       Place                                           Location  \\\n",
       "0  Tanah Lot  Beraban, Kec. Kediri, Kabupaten Tabanan, Bali ...   \n",
       "\n",
       "               Coordinate  Google Maps Rating  Google Reviews (Count)  \\\n",
       "0  8.6212° S, 115.0868° E                 4.6                   75899   \n",
       "\n",
       "                                              Source  \\\n",
       "0  https://www.google.com/maps/place/Tanah+Lot/@-...   \n",
       "\n",
       "                                         Description  \\\n",
       "0  Tanah Lot is a rock formation off the Indonesi...   \n",
       "\n",
       "                 Tourism/Visitor Fee (approx in USD)  \n",
       "0  Tanah Lot entrance tickets cost 20,000 Rupiah ...  "
      ]
     },
     "execution_count": 6,
     "metadata": {},
     "output_type": "execute_result"
    }
   ],
   "source": [
    "df.head(1)"
   ]
  },
  {
   "cell_type": "code",
   "execution_count": 7,
   "metadata": {},
   "outputs": [
    {
     "data": {
      "text/plain": [
       "Index(['Place', 'Location', 'Coordinate', 'Google Maps Rating',\n",
       "       'Google Reviews (Count)', 'Source', 'Description',\n",
       "       'Tourism/Visitor Fee (approx in USD)'],\n",
       "      dtype='object')"
      ]
     },
     "execution_count": 7,
     "metadata": {},
     "output_type": "execute_result"
    }
   ],
   "source": [
    "df.columns"
   ]
  },
  {
   "cell_type": "code",
   "execution_count": 8,
   "metadata": {},
   "outputs": [],
   "source": [
    "# Combine columns and format as a single text\n",
    "result = '\\n'.join(f\"{row['Description']}, {row['Tourism/Visitor Fee (approx in USD)']}\" for _, row in df.iterrows())\n",
    "\n",
    "# Save the result to a .md file\n",
    "output_file = \"result.md\"\n",
    "with open(output_file, 'w') as file:\n",
    "    file.write(result)"
   ]
  },
  {
   "cell_type": "code",
   "execution_count": null,
   "metadata": {},
   "outputs": [],
   "source": []
  }
 ],
 "metadata": {
  "kernelspec": {
   "display_name": "Python 3",
   "language": "python",
   "name": "python3"
  },
  "language_info": {
   "codemirror_mode": {
    "name": "ipython",
    "version": 3
   },
   "file_extension": ".py",
   "mimetype": "text/x-python",
   "name": "python",
   "nbconvert_exporter": "python",
   "pygments_lexer": "ipython3",
   "version": "3.10.12"
  }
 },
 "nbformat": 4,
 "nbformat_minor": 2
}
